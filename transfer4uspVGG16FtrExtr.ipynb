{
 "cells": [
  {
   "cell_type": "code",
   "execution_count": 1,
   "metadata": {},
   "outputs": [
    {
     "name": "stderr",
     "output_type": "stream",
     "text": [
      "Using TensorFlow backend.\n"
     ]
    }
   ],
   "source": [
    "import numpy as np\n",
    "from numpy import genfromtxt\n",
    "import pylab as pl\n",
    "from io import StringIO\n",
    "import matplotlib.pyplot as plt\n",
    "from sklearn.metrics import confusion_matrix\n",
    "import itertools\n",
    "\n",
    "import urllib\n",
    "import random\n",
    "import sys\n",
    "\n",
    "from keras.models import Sequential\n",
    "from keras.layers import Dense, Activation, Dropout\n",
    "from keras.layers import LSTM\n",
    "from keras.optimizers import RMSprop\n",
    "from keras.utils.data_utils import get_file\n",
    "from keras.layers.wrappers import TimeDistributed\n",
    "from keras.utils import to_categorical\n",
    "from keras.models import load_model\n",
    "from keras.models import model_from_json\n",
    "from keras.models import Model\n",
    "\n",
    "from IPython.display import clear_output\n",
    "import re"
   ]
  },
  {
   "cell_type": "code",
   "execution_count": 2,
   "metadata": {},
   "outputs": [],
   "source": [
    "from keras.applications.mobilenet import MobileNet\n",
    "from keras.applications.resnet50 import ResNet50\n",
    "from keras.applications.vgg16 import VGG16\n",
    "from keras.applications.vgg19 import VGG19\n",
    "from keras.applications.xception import Xception\n",
    "from keras.applications.inception_v3 import InceptionV3\n",
    "from keras.applications.inception_resnet_v2 import InceptionResNetV2\n",
    "from keras.applications.densenet import DenseNet121\n",
    "from keras.applications.densenet import DenseNet169\n",
    "from keras.applications.densenet import DenseNet201\n",
    "from keras.applications.nasnet import NASNetLarge\n",
    "from keras.applications.nasnet import NASNetMobile\n",
    "\n",
    "from keras.applications import mobilenet\n",
    "# from keras.applications.mobilenet import preprocess_input, decode_predictions\n",
    "from keras.applications.resnet50 import preprocess_input, decode_predictions\n",
    "from keras.preprocessing import image\n",
    "from keras import applications\n",
    "import tensorflow as tf\n",
    "from tensorflow.python.framework import ops\n",
    "\n",
    "# Imports\n",
    "import os, os.path, gc, time, shutil, matplotlib, glob"
   ]
  },
  {
   "cell_type": "markdown",
   "metadata": {},
   "source": [
    "## Load image list and set image path"
   ]
  },
  {
   "cell_type": "code",
   "execution_count": 4,
   "metadata": {},
   "outputs": [
    {
     "name": "stdout",
     "output_type": "stream",
     "text": [
      "Published Image quantity: 5505\n",
      "'4.62406833671_-74.0571218553_-90.jpg'\n",
      "'4.6461951_-74.0536636_180.jpg'\n",
      "'4.6461951_-74.0536636_180.jpg'\n"
     ]
    }
   ],
   "source": [
    "# Image set directory root\n",
    "# chapinero\n",
    "imgRoot = '/Users/SerG1oAC/Documents/dbintroUdacity/fullstack/vagrant/ggStreetView/map/localidades/chapinero/imgs/'\n",
    "# martires\n",
    "# imgRoot = '/Users/SerG1oAC/Documents/dbintroUdacity/fullstack/vagrant/ggStreetView/map/localidades/martires/imgs/'\n",
    "# usaquen\n",
    "# imgRoot = '/Users/SerG1oAC/Documents/dbintroUdacity/fullstack/vagrant/ggStreetView/map/localidades/usaquen/imgs_usaquen/'\n",
    "\n",
    "# Load published images\n",
    "# chapinero\n",
    "pblImgFile = open('mstrPublishedLst', 'r')\n",
    "# martires\n",
    "# pblImgFile = open('mstrPublishedLst_Martires', 'r')\n",
    "# usaquen\n",
    "# pblImgFile = open('mstrPublishedLst_Usaquen', 'r')\n",
    "\n",
    "pblImgSet =  pblImgFile.readlines() \n",
    "print('Published Image quantity: ' + str(len(pblImgSet)))\n",
    "print(pblImgSet[0][:-2])\n",
    "print(pblImgSet[len(pblImgSet) - 1][:-2])\n",
    "print(pblImgSet[-1][:-2])"
   ]
  },
  {
   "cell_type": "markdown",
   "metadata": {},
   "source": [
    "## Load VGG19 model without output layer"
   ]
  },
  {
   "cell_type": "code",
   "execution_count": 5,
   "metadata": {},
   "outputs": [],
   "source": [
    "modelVGG19 = VGG19(weights='imagenet', include_top=False, pooling='avg')"
   ]
  },
  {
   "cell_type": "code",
   "execution_count": 6,
   "metadata": {},
   "outputs": [
    {
     "name": "stdout",
     "output_type": "stream",
     "text": [
      "Image Shape:  (1, 224, 224, 3)\n",
      "Image 4 Nas Shape:  (1, 331, 331, 3)\n",
      "VGG19:  (512,)\n"
     ]
    }
   ],
   "source": [
    "img_path = imgRoot + pblImgSet[np.int(0.0)][:-2].replace(\"'\", \"\")\n",
    "# load image setting the image size to 224 x 224\n",
    "img = image.load_img(img_path, target_size=(224, 224))\n",
    "img4nas = image.load_img(img_path, target_size=(331, 331))\n",
    "# convert image to numpy array\n",
    "x = image.img_to_array(img)\n",
    "# the image is now in an array of shape (3, 224, 224) \n",
    "# need to expand it to (1, 3, 224, 224) as it's expecting a list\n",
    "x = np.expand_dims(x, axis=0)\n",
    "x = preprocess_input(x)\n",
    "\n",
    "x4nas = image.img_to_array(img4nas)\n",
    "# the image is now in an array of shape (3, 224, 224) \n",
    "# need to expand it to (1, 3, 224, 224) as it's expecting a list\n",
    "x4nas = np.expand_dims(x4nas, axis=0)\n",
    "x4nas = preprocess_input(x4nas)\n",
    "\n",
    "print(\"Image Shape: \" ,x.shape )\n",
    "print(\"Image 4 Nas Shape: \" ,x4nas.shape )\n",
    "# extract the features\n",
    "\n",
    "featuresmodelVGG19 = modelVGG19.predict(x)[0]\n",
    "print(\"VGG19: \", featuresmodelVGG19.shape)\n"
   ]
  },
  {
   "cell_type": "markdown",
   "metadata": {},
   "source": [
    "## Generate and save VGG19 based image descriptors"
   ]
  },
  {
   "cell_type": "code",
   "execution_count": 7,
   "metadata": {},
   "outputs": [
    {
     "name": "stdout",
     "output_type": "stream",
     "text": [
      "imgFeatureSet : (5505, 512)\n"
     ]
    }
   ],
   "source": [
    "\n",
    "imgFeatureSet = np.zeros((len(pblImgSet), featuresmodelVGG19.shape[0])) \n",
    "print(\"imgFeatureSet :\", imgFeatureSet.shape)\n",
    "\n",
    "def getImgSetFeatures(model, imgRef, masterImgList):\n",
    "    pblImgFile = open(masterImgList, 'r') \n",
    "    pblImgSet =  pblImgFile.readlines() \n",
    "    print('Published Image quantity: ' + str(len(pblImgSet)))\n",
    "   \n",
    "    imgCounter = 0\n",
    "    for v in pblImgSet:\n",
    "        imgPath = imgRoot + v[:-2].replace(\"'\", \"\")\n",
    "        img = image.load_img(imgPath, target_size=(imgRef.shape[1], imgRef.shape[2]))\n",
    "        x = image.img_to_array(img)\n",
    "        x = np.expand_dims(x, axis=0)\n",
    "        x = preprocess_input(x)\n",
    "        imgFeatureSet[imgCounter] = model.predict(x)[0]\n",
    "        imgCounter = imgCounter + 1\n",
    "        if imgCounter % 10 == 0:\n",
    "            clear_output(wait=True)\n",
    "            print (\"Cost after epoch %i: %f\" % (imgCounter, 100*(imgCounter/len(pblImgSet))))\n",
    "            \n",
    "\n",
    "\n",
    "        "
   ]
  },
  {
   "cell_type": "code",
   "execution_count": 8,
   "metadata": {},
   "outputs": [
    {
     "name": "stdout",
     "output_type": "stream",
     "text": [
      "Cost after epoch 5500: 99.909173\n"
     ]
    }
   ],
   "source": [
    "getImgSetFeatures(modelVGG19, x, 'mstrPublishedLst')"
   ]
  },
  {
   "cell_type": "code",
   "execution_count": 9,
   "metadata": {
    "collapsed": true
   },
   "outputs": [],
   "source": [
    "np.savetxt(\"VGG19Chapinero_Ftrs.csv\", imgFeatureSet, delimiter=\",\")"
   ]
  },
  {
   "cell_type": "code",
   "execution_count": 20,
   "metadata": {},
   "outputs": [
    {
     "name": "stdout",
     "output_type": "stream",
     "text": [
      "[  7.00259149e-01   0.00000000e+00   0.00000000e+00   5.45773953e-02\n",
      "   1.22547541e+01   4.19673651e-01   0.00000000e+00   4.11977954e-02\n",
      "   1.14436257e+00   3.52895319e-01   0.00000000e+00   0.00000000e+00\n",
      "   0.00000000e+00   0.00000000e+00   0.00000000e+00   8.62121284e-01\n",
      "   0.00000000e+00   3.70051920e-01   0.00000000e+00   0.00000000e+00\n",
      "   5.37817001e+00   1.47125988e+01   2.17260733e-01   0.00000000e+00\n",
      "   5.21877825e-01   0.00000000e+00   2.09709620e+00   7.66196728e-01\n",
      "   3.25401497e+00   0.00000000e+00   8.77244771e-01   0.00000000e+00\n",
      "   2.64648527e-01   0.00000000e+00   1.84404194e+00   0.00000000e+00\n",
      "   1.01462014e-01   0.00000000e+00   0.00000000e+00   0.00000000e+00\n",
      "   3.76028232e-02   0.00000000e+00   4.91837084e-01   5.96052967e-02\n",
      "   0.00000000e+00   4.82262701e-01   1.37673492e+01   4.40700874e-02\n",
      "   0.00000000e+00   5.38695335e+00   1.14731455e+00   2.42062733e-02\n",
      "   3.11903596e-01   3.96084994e-01   4.99453098e-01   7.05833054e+00\n",
      "   4.86659706e-01   1.15747452e+00   1.36871529e+00   2.45962524e+00\n",
      "   0.00000000e+00   5.86073339e-01   1.56825376e+00   4.99573648e-02\n",
      "   0.00000000e+00   2.01496780e-01   0.00000000e+00   3.56611848e+00\n",
      "   0.00000000e+00   5.66488683e-01   4.46629107e-01   3.86745065e-01\n",
      "   3.69942963e-01   3.58801801e-03   0.00000000e+00   0.00000000e+00\n",
      "   2.07497549e+00   4.86298114e-01   4.21576738e-01   0.00000000e+00\n",
      "   0.00000000e+00   1.16182208e+00   0.00000000e+00   3.18474650e-01\n",
      "   0.00000000e+00   4.96441245e-01   1.00499010e+01   2.00459301e-01\n",
      "   3.35300374e+00   1.58853900e+00   0.00000000e+00   0.00000000e+00\n",
      "   0.00000000e+00   0.00000000e+00   2.30619621e+00   1.45579171e+00\n",
      "   7.87888467e-02   0.00000000e+00   0.00000000e+00   2.67928505e+00\n",
      "   7.25281239e-01   3.09513491e-02   8.65531445e-01   0.00000000e+00\n",
      "   0.00000000e+00   0.00000000e+00   0.00000000e+00   8.60612988e-01\n",
      "   2.11464897e-01   7.84139574e-01   2.13366675e+00   7.85624459e-02\n",
      "   2.40843073e-01   1.01048207e+00   5.52574813e-01   0.00000000e+00\n",
      "   5.68399131e-01   7.17207479e+00   8.86666107e+00   2.03969502e+00\n",
      "   1.18523037e+00   0.00000000e+00   0.00000000e+00   4.69633102e+00\n",
      "   5.41988134e+00   4.65848178e-01   0.00000000e+00   0.00000000e+00\n",
      "   1.98902115e-02   1.13113247e-01   1.90057015e+00   4.28455472e-01\n",
      "   5.81567764e-01   0.00000000e+00   1.82000361e-02   1.10748760e-01\n",
      "   0.00000000e+00   5.98516107e-01   6.05662286e-01   7.98757505e+00\n",
      "   0.00000000e+00   0.00000000e+00   0.00000000e+00   1.65007782e+00\n",
      "   1.21163130e+01   0.00000000e+00   1.35180044e+00   0.00000000e+00\n",
      "   2.49841118e+00   2.36170244e+00   2.57943049e-02   2.59226054e-01\n",
      "   0.00000000e+00   0.00000000e+00   4.56764065e-02   1.80798507e+00\n",
      "   6.85525715e-01   0.00000000e+00   0.00000000e+00   8.33438098e-01\n",
      "   8.09687555e-01   0.00000000e+00   9.16999221e-01   9.20538068e-01\n",
      "   0.00000000e+00   5.41279256e-01   9.07439888e-01   0.00000000e+00\n",
      "   0.00000000e+00   0.00000000e+00   3.52110314e+00   0.00000000e+00\n",
      "   3.38846482e-02   5.46179152e+00   2.17170984e-01   0.00000000e+00\n",
      "   0.00000000e+00   5.48639745e-02   0.00000000e+00   2.31344756e-02\n",
      "   1.16430484e-01   5.52780814e-02   1.61010587e+00   0.00000000e+00\n",
      "   2.49581871e+01   0.00000000e+00   4.20102835e+00   9.37526941e-01\n",
      "   4.29873943e+00   0.00000000e+00   3.44504029e-01   3.41896558e+00\n",
      "   3.81961524e-01   0.00000000e+00   2.15627020e-03   0.00000000e+00\n",
      "   2.07274485e+00   0.00000000e+00   0.00000000e+00   4.26232368e-02\n",
      "   0.00000000e+00   2.89457083e-01   0.00000000e+00   0.00000000e+00\n",
      "   0.00000000e+00   3.35528076e-01   0.00000000e+00   3.54190683e+00\n",
      "   0.00000000e+00   0.00000000e+00   7.51472473e-01   1.34752047e+00\n",
      "   2.00618193e-01   1.83830246e-01   6.90610790e+00   0.00000000e+00\n",
      "   0.00000000e+00   1.27746388e-01   0.00000000e+00   4.78545688e-02\n",
      "   5.80086422e+00   3.81307006e-02   0.00000000e+00   0.00000000e+00\n",
      "   4.15533185e-01   3.82834002e-02   0.00000000e+00   1.85916889e-02\n",
      "   0.00000000e+00   0.00000000e+00   1.86290264e+00   1.00018036e+00\n",
      "   1.96923208e+00   0.00000000e+00   2.29881611e-02   3.36373389e-01\n",
      "   1.36122778e-01   1.20336008e+01   0.00000000e+00   3.83656956e-02\n",
      "   9.41156000e-02   0.00000000e+00   1.15955405e-01   0.00000000e+00\n",
      "   1.45194542e+00   0.00000000e+00   1.09553826e+00   3.26822400e-01\n",
      "   0.00000000e+00   8.39644223e-02   3.39149070e+00   1.47962108e-01\n",
      "   6.46758318e-01   3.48968744e+00   3.73138094e+00   0.00000000e+00\n",
      "   1.08126543e-01   2.22204164e-01   2.91486406e+00   8.63075829e+00\n",
      "   2.20358044e-01   3.72333717e+00   0.00000000e+00   0.00000000e+00\n",
      "   2.77646399e+00   0.00000000e+00   4.39179516e+00   1.26313663e+00\n",
      "   0.00000000e+00   4.92163785e-02   0.00000000e+00   5.69750145e-02\n",
      "   4.55486961e-02   0.00000000e+00   0.00000000e+00   0.00000000e+00\n",
      "   6.17332220e+00   0.00000000e+00   0.00000000e+00   0.00000000e+00\n",
      "   0.00000000e+00   3.64828140e-01   2.05830503e+00   0.00000000e+00\n",
      "   0.00000000e+00   1.96973145e-01   0.00000000e+00   0.00000000e+00\n",
      "   3.69293004e-01   0.00000000e+00   6.73971117e-01   1.58015680e+00\n",
      "   4.93827772e+00   7.88893104e-01   8.01086128e-01   0.00000000e+00\n",
      "   1.59272361e+00   1.28607568e-03   1.68940330e+00   1.61177993e-01\n",
      "   1.90746441e-01   0.00000000e+00   1.13728583e+00   1.69929489e-02\n",
      "   1.13685715e+00   1.49909675e-01   0.00000000e+00   1.11849713e+00\n",
      "   1.79708749e-01   0.00000000e+00   4.17500556e-01   2.21620500e-01\n",
      "   3.76966691e+00   0.00000000e+00   6.34786040e-02   8.56223488e+00\n",
      "   5.68963945e-01   5.87759260e-03   6.39164209e-01   2.73921546e-02\n",
      "   9.71412957e-01   2.22638547e-02   0.00000000e+00   0.00000000e+00\n",
      "   4.13596690e-01   0.00000000e+00   1.61248004e+00   6.98730722e-02\n",
      "   3.84202898e-02   0.00000000e+00   0.00000000e+00   0.00000000e+00\n",
      "   4.38645154e-01   0.00000000e+00   1.37268343e+01   0.00000000e+00\n",
      "   0.00000000e+00   0.00000000e+00   1.36903009e+01   0.00000000e+00\n",
      "   3.36623862e-02   0.00000000e+00   0.00000000e+00   2.62287647e-01\n",
      "   2.09221900e-01   7.54788160e-01   0.00000000e+00   3.61474514e+00\n",
      "   0.00000000e+00   0.00000000e+00   1.74828649e+00   0.00000000e+00\n",
      "   1.73015761e+00   7.15876579e-01   2.88391292e-01   0.00000000e+00\n",
      "   0.00000000e+00   3.49902898e-01   4.01899740e-02   0.00000000e+00\n",
      "   0.00000000e+00   0.00000000e+00   1.56776409e+01   8.04626405e-01\n",
      "   0.00000000e+00   0.00000000e+00   3.13824558e+00   1.50861338e-01\n",
      "   2.12083101e+00   1.83139861e+00   9.43666771e-02   0.00000000e+00\n",
      "   2.36492181e+00   0.00000000e+00   0.00000000e+00   0.00000000e+00\n",
      "   0.00000000e+00   7.88269788e-02   4.63128299e-01   9.59807754e-01\n",
      "   3.11840385e-01   3.70445895e+00   7.70684063e-01   0.00000000e+00\n",
      "   0.00000000e+00   1.46785364e-01   1.46669626e-01   6.33662128e+00\n",
      "   8.23833227e-01   0.00000000e+00   8.55376339e+00   0.00000000e+00\n",
      "   6.18737862e-02   1.10124975e-01   0.00000000e+00   0.00000000e+00\n",
      "   7.25852489e-01   0.00000000e+00   0.00000000e+00   0.00000000e+00\n",
      "   7.85065666e-02   1.67794275e+00   8.49358663e-02   5.51200449e-01\n",
      "   0.00000000e+00   7.34025538e-01   8.39729726e-01   8.38361323e-01\n",
      "   2.19024634e+00   1.67667174e+00   0.00000000e+00   1.50098872e+00\n",
      "   1.26662791e+00   0.00000000e+00   6.15434766e-01   0.00000000e+00\n",
      "   5.09925461e+00   1.48057818e+00   0.00000000e+00   0.00000000e+00\n",
      "   1.19209841e-01   1.49286389e-01   5.62584221e-01   2.81164289e-01\n",
      "   5.16058981e-01   4.64651972e-01   5.10688126e-01   6.75335407e-01\n",
      "   0.00000000e+00   0.00000000e+00   0.00000000e+00   0.00000000e+00\n",
      "   9.04238597e-02   9.37722623e-02   2.18002900e-01   1.86801827e+00\n",
      "   3.26472968e-01   0.00000000e+00   1.16763078e-01   1.11155903e+00\n",
      "   1.28714815e-01   1.53324723e+00   9.60183024e-01   0.00000000e+00\n",
      "   4.23219728e+00   1.70875740e+00   8.33695680e-02   4.25744690e-02\n",
      "   0.00000000e+00   0.00000000e+00   4.57765222e-01   0.00000000e+00\n",
      "   0.00000000e+00   1.77078247e-01   4.69831750e-02   8.42510909e-02\n",
      "   0.00000000e+00   0.00000000e+00   4.27400112e-01   0.00000000e+00\n",
      "   3.06674510e-01   1.88104999e+00   0.00000000e+00   3.56026936e+00\n",
      "   9.69865501e-01   3.09228015e+00   7.71299899e-02   0.00000000e+00\n",
      "   0.00000000e+00   1.24139094e+00   0.00000000e+00   0.00000000e+00\n",
      "   5.84616005e-01   0.00000000e+00   8.17960203e-02   2.64985800e-01\n",
      "   4.36798902e-03   4.11472559e+00   1.17274411e-01   8.21027160e-02\n",
      "   1.51263669e-01   1.17892705e-01   2.75810093e-01   1.15728843e+00\n",
      "   0.00000000e+00   0.00000000e+00   3.21380272e+01   3.36294127e+00\n",
      "   1.19298017e-02   7.20349371e-01   0.00000000e+00   1.94716528e-01\n",
      "   2.93605375e+00   4.54575837e-01   0.00000000e+00   0.00000000e+00\n",
      "   1.53188026e+00   1.21422720e+00   2.58964688e-01   0.00000000e+00\n",
      "   8.09365463e+00   0.00000000e+00   1.12052292e-01   3.20201740e-02\n",
      "   2.34832239e+00   0.00000000e+00   0.00000000e+00   9.58608687e-01\n",
      "   0.00000000e+00   0.00000000e+00   5.33151293e+00   4.81783009e+00]\n"
     ]
    }
   ],
   "source": [
    "print(imgFeatureSet[0,:])"
   ]
  },
  {
   "cell_type": "markdown",
   "metadata": {},
   "source": [
    "### Building training set"
   ]
  },
  {
   "cell_type": "code",
   "execution_count": 2,
   "metadata": {},
   "outputs": [
    {
     "ename": "NameError",
     "evalue": "name 'genfromtxt' is not defined",
     "output_type": "error",
     "traceback": [
      "\u001b[0;31m---------------------------------------------------------------------------\u001b[0m",
      "\u001b[0;31mNameError\u001b[0m                                 Traceback (most recent call last)",
      "\u001b[0;32m<ipython-input-2-052cacfcbfaa>\u001b[0m in \u001b[0;36m<module>\u001b[0;34m()\u001b[0m\n\u001b[0;32m----> 1\u001b[0;31m \u001b[0mimageFeatures\u001b[0m \u001b[0;34m=\u001b[0m \u001b[0mgenfromtxt\u001b[0m\u001b[0;34m(\u001b[0m\u001b[0;34m'VGG16_Ftrs.csv'\u001b[0m\u001b[0;34m,\u001b[0m \u001b[0mdelimiter\u001b[0m\u001b[0;34m=\u001b[0m\u001b[0;34m','\u001b[0m\u001b[0;34m)\u001b[0m\u001b[0;34m\u001b[0m\u001b[0m\n\u001b[0m",
      "\u001b[0;31mNameError\u001b[0m: name 'genfromtxt' is not defined"
     ]
    }
   ],
   "source": [
    "imageFeatures = genfromtxt('VGG16_Ftrs.csv', delimiter=',')"
   ]
  },
  {
   "cell_type": "code",
   "execution_count": 84,
   "metadata": {},
   "outputs": [
    {
     "name": "stdout",
     "output_type": "stream",
     "text": [
      "(5505, 512)\n"
     ]
    }
   ],
   "source": [
    "print(imageFeatures.shape)\n",
    "imgFtrStd = np.expand_dims(np.std(imageFeatures, axis=0), axis=0) \n",
    "imgFtrMean = np.expand_dims(np.mean(imageFeatures, axis=0) , axis=0) \n",
    "imgNrmFeatures = ((imageFeatures - imgFtrMean)/imgFtrStd)"
   ]
  },
  {
   "cell_type": "code",
   "execution_count": 85,
   "metadata": {},
   "outputs": [
    {
     "name": "stdout",
     "output_type": "stream",
     "text": [
      "(1, 1024)\n"
     ]
    }
   ],
   "source": [
    "concaFtr = np.expand_dims( np.concatenate((imgNrmFeatures[1], imgNrmFeatures[2]), axis=0), axis=0 )\n",
    "print(concaFtr.shape)"
   ]
  },
  {
   "cell_type": "code",
   "execution_count": 98,
   "metadata": {},
   "outputs": [
    {
     "name": "stdout",
     "output_type": "stream",
     "text": [
      "(14115, 3)\n",
      "1.0\n",
      "Training percentage  90 %\n",
      "Training mini batch size 128\n",
      "Total amount of training votes 12703\n",
      "Total amount of test votes 1412\n",
      "Number of training mini batches 100\n",
      "Last batch size 31\n",
      "Number of test mini batches 12\n",
      "Last test batch size 4\n"
     ]
    }
   ],
   "source": [
    "\n",
    "# Load vote indexer file\n",
    "votesIndex = genfromtxt('descriptorIndexerNrml_Nov_24.txt', delimiter=',')\n",
    "print(votesIndex.shape)\n",
    "print(votesIndex[4][2])\n",
    "\n",
    "# training percentage\n",
    "perTrain = 90\n",
    "print('Training percentage ' , perTrain,'%')\n",
    "# miniBatch Size\n",
    "minibatch_size = 128\n",
    "print('Training mini batch size' , minibatch_size)\n",
    "# Total amount of training votes\n",
    "ImgVtTrainSize = np.int(np.floor((votesIndex.shape[0]*perTrain)/100))\n",
    "print(\"Total amount of training votes\" , ImgVtTrainSize)\n",
    "# Total amount of test votes\n",
    "ImgVtTestSize = votesIndex.shape[0] - ImgVtTrainSize\n",
    "print(\"Total amount of test votes\" , ImgVtTestSize)\n",
    "num_minibatches = int(ImgVtTrainSize / minibatch_size)\n",
    "LastBatchSize = ImgVtTrainSize - num_minibatches*minibatch_size\n",
    "if LastBatchSize > 0:\n",
    "    num_minibatches = num_minibatches + 1\n",
    "print(\"Number of training mini batches\" , num_minibatches)\n",
    "print(\"Last batch size\", LastBatchSize)\n",
    "#--Test figures\n",
    "iniTestIdx = ImgVtTrainSize\n",
    "num_Testminibatches = int(ImgVtTestSize / minibatch_size)\n",
    "LastTestBatchSize = ImgVtTestSize - num_Testminibatches*minibatch_size\n",
    "if LastTestBatchSize > 0:\n",
    "    num_Testminibatches = num_Testminibatches + 1\n",
    "print(\"Number of test mini batches\" , num_Testminibatches)\n",
    "print(\"Last test batch size\", LastTestBatchSize)"
   ]
  },
  {
   "cell_type": "code",
   "execution_count": 99,
   "metadata": {
    "collapsed": true
   },
   "outputs": [],
   "source": [
    "def getMiniBatch(minbIdx):\n",
    "    # minbIdx: miniBatch index\n",
    "    # training set permutation array\n",
    "    iniIdx = minbIdx * minibatch_size\n",
    "    endIdx = iniIdx + minibatch_size - 1\n",
    "    if endIdx > (ImgVtTrainSize - 1):\n",
    "        endIdx = ImgVtTrainSize - 1\n",
    "    vsize = (endIdx - iniIdx) + 1  \n",
    "    # build room\n",
    "    x_train_orig = np.zeros((vsize, imageFeatures.shape[1]*2)) \n",
    "    y_train_orig = np.zeros((vsize,1))\n",
    "    idxIte = 0\n",
    "    for i in range(iniIdx,(endIdx+1)):\n",
    "        imgAIdx = votesIndex[i][0] - 1\n",
    "        imgBIdx = votesIndex[i][1] - 1\n",
    "        voteCode = votesIndex[i][2]\n",
    "        \n",
    "        y_train_orig[idxIte,0] = voteCode\n",
    "        x_train_orig[idxIte] = np.expand_dims(np.concatenate((imgNrmFeatures[np.int(imgAIdx)], imgNrmFeatures[np.int(imgBIdx)]), axis=0), axis=0)[0]\n",
    "            \n",
    "        idxIte =  idxIte + 1\n",
    "\n",
    "    return  x_train_orig, y_train_orig     \n",
    "        \n",
    "    \n",
    "\n",
    "def getTestMiniBatch(minTbIdx):\n",
    "    # minbIdx: miniBatch index\n",
    "    # training set permutation array\n",
    "    minbIdx = int(minTbIdx%num_Testminibatches)\n",
    "    \n",
    "    iniIdx = minbIdx * minibatch_size\n",
    "    endIdx = iniIdx + minibatch_size - 1\n",
    "    if endIdx > (ImgVtTestSize - 1):\n",
    "        endIdx = ImgVtTestSize - 1\n",
    "    vsize = (endIdx - iniIdx) + 1  \n",
    "    # build room\n",
    "    x_train_orig = np.zeros((vsize, imageFeatures.shape[1]*2)) \n",
    "    y_train_orig = np.zeros((vsize,1))\n",
    "    idxIte = 0\n",
    "    for i in range(iniIdx,(endIdx+1)):\n",
    "        imgAIdx = votesIndex[i][0] - 1\n",
    "        imgBIdx = votesIndex[i][1] - 1\n",
    "        voteCode = votesIndex[i][2]\n",
    "        \n",
    "        y_train_orig[idxIte,0] = voteCode\n",
    "        x_train_orig[idxIte] = np.expand_dims(np.concatenate((imgNrmFeatures[np.int(imgAIdx)], imgNrmFeatures[np.int(imgBIdx)]), axis=0), axis=0)[0]\n",
    "            \n",
    "        idxIte =  idxIte + 1\n",
    "    \n",
    "    return  x_train_orig, y_train_orig"
   ]
  },
  {
   "cell_type": "code",
   "execution_count": 100,
   "metadata": {
    "collapsed": true
   },
   "outputs": [],
   "source": [
    "def create_placeholders(n_x, n_y):\n",
    "    X = tf.placeholder(tf.float32, shape=(None,n_x), name = 'X') \n",
    "    Y = tf.placeholder(tf.float32, shape=(None, n_y), name = 'Y')\n",
    "    \n",
    "    return X,Y"
   ]
  },
  {
   "cell_type": "code",
   "execution_count": 101,
   "metadata": {
    "collapsed": true
   },
   "outputs": [],
   "source": [
    "def forward_propagation(X):\n",
    "    \n",
    "    prtVlmSize = True\n",
    "    \n",
    "    Z4 = tf.contrib.layers.fully_connected(X, 1024)\n",
    "    Z5 = tf.contrib.layers.fully_connected(Z4, 512)\n",
    "    Z6 = tf.contrib.layers.fully_connected(Z5, 1, activation_fn=None)\n",
    "    \n",
    "    return Z6"
   ]
  },
  {
   "cell_type": "code",
   "execution_count": 102,
   "metadata": {
    "collapsed": true
   },
   "outputs": [],
   "source": [
    "def compute_cost(Z6, Y):\n",
    "    cost = tf.reduce_mean(tf.nn.sigmoid_cross_entropy_with_logits(logits = Z6, labels = Y))\n",
    "    \n",
    "    return cost"
   ]
  },
  {
   "cell_type": "code",
   "execution_count": 103,
   "metadata": {},
   "outputs": [],
   "source": [
    "def model(learning_rate = 0.0001, num_epochs = 50, print_cost = True, minibatch_size = minibatch_size):\n",
    "    \n",
    "    \n",
    "    ops.reset_default_graph()                         # to be able to rerun the model without overwriting tf variables\n",
    "    tf.set_random_seed(1)                             # to keep results consistent (tensorflow seed)\n",
    "    seed = 3                                          # to keep results consistent (numpy seed)\n",
    "                                        \n",
    "    costs = []                                        # To keep track of the cost\n",
    "    Testcosts = []\n",
    "    lastBestTestCost = 100.\n",
    "    # Create Placeholders of the correct shape\n",
    "    X, Y = create_placeholders(imageFeatures.shape[1]*2, 1)\n",
    "     \n",
    "    # Forward propagation: Build the forward propagation in the tensorflow graph\n",
    "    Z6 = forward_propagation(X)\n",
    "    \n",
    "    # Cost function: Add cost function to tensorflow graph\n",
    "    cost = compute_cost(Z6, Y)\n",
    "    \n",
    "    # Backpropagation: Define the tensorflow optimizer. Use an AdamOptimizer that minimizes the cost.\n",
    "    optimizer = tf.train.AdamOptimizer(learning_rate).minimize(cost)\n",
    "   \n",
    "    # SAVER ops\n",
    "    SIGMOID_op = tf.sigmoid(Z6, name = 'SIGMOID_op')\n",
    "    PREDICT_op = tf.round(SIGMOID_op, name = 'PREDICT_op')\n",
    "    OK_PREDICTED_op = tf.equal(PREDICT_op, Y, name = 'OK_PREDICTED_op')\n",
    "    ACCURACY_op = tf.reduce_mean(tf.cast(OK_PREDICTED_op, \"float\"), name = 'ACCURACY_op')\n",
    "    \n",
    "    # Initialize all the variables globally\n",
    "    init = tf.global_variables_initializer()\n",
    "     \n",
    "    # Add ops to save and restore all the variables.\n",
    "    saver = tf.train.Saver()\n",
    "\n",
    "    # Start the session to compute the tensorflow graph\n",
    "    with tf.Session() as sess:\n",
    "        \n",
    "        # Run the initialization\n",
    "        sess.run(init)\n",
    "        \n",
    "        # Do the training loop\n",
    "        for epoch in range(num_epochs):\n",
    "            minibatch_cost = 0.\n",
    "            minibatch_testCost = 0.\n",
    "            seed = seed + 1\n",
    "            np.random.seed(seed)\n",
    "            for it in range(0, num_minibatches):\n",
    "                X_train, Y_train = getMiniBatch(it)\n",
    "                _ , temp_cost = sess.run([optimizer, cost], feed_dict={X: X_train, Y: Y_train})\n",
    "                minibatch_cost += temp_cost / num_minibatches\n",
    "               \n",
    "            for tx in range(0, num_Testminibatches):\n",
    "                X_test, Y_test = getTestMiniBatch(tx)\n",
    "                temp_testcost = cost.eval({X: X_test, Y: Y_test})\n",
    "                minibatch_testCost += temp_testcost/num_Testminibatches\n",
    "                \n",
    "            # Print the cost every epoch\n",
    "            if print_cost == True and epoch % 1 == 0:\n",
    "                print (\"Cost after epoch %i: %f\" % (epoch, minibatch_cost))\n",
    "                print (\"Test Cost after epoch %i: %f\" % (epoch, minibatch_testCost))\n",
    "            # build cost list\n",
    "            if epoch > 1:\n",
    "                costs.append(minibatch_cost)\n",
    "                Testcosts.append(minibatch_testCost)\n",
    "            # update model if a better test cost is detected\n",
    "            if minibatch_testCost < lastBestTestCost:\n",
    "                lastBestTestCost = minibatch_testCost\n",
    "                # remove previuous best model\n",
    "                files = glob.glob(modelPath + '/*')\n",
    "                for f in files:\n",
    "                    os.remove(f)\n",
    "                # Save the variables to disk.\n",
    "                print(\"Saving a new best model\")\n",
    "                saver.save(sess, modelPath + '/model' + str(int(lastBestTestCost*100))) \n",
    "            \n",
    "        # plot the cost\n",
    "        plt.plot(np.squeeze(costs))\n",
    "        plt.ylabel('costs')\n",
    "        plt.xlabel('iterations (per tens)')\n",
    "        plt.title(\"Learning rate =\" + str(learning_rate))\n",
    "        plt.show()\n",
    "        \n",
    "        plt.plot(np.squeeze(Testcosts))\n",
    "        plt.ylabel('test cost')\n",
    "        plt.xlabel('iterations (per tens)')\n",
    "        plt.title(\"Learning rate =\" + str(learning_rate))\n",
    "        plt.show()\n",
    "        \n",
    "                \n",
    "        return costs,Testcosts"
   ]
  },
  {
   "cell_type": "code",
   "execution_count": 104,
   "metadata": {},
   "outputs": [
    {
     "name": "stdout",
     "output_type": "stream",
     "text": [
      "Cost after epoch 0: 0.596810\n",
      "Test Cost after epoch 0: 0.726519\n",
      "Saving a new best model\n",
      "Cost after epoch 1: 0.511433\n",
      "Test Cost after epoch 1: 0.616777\n",
      "Saving a new best model\n",
      "Cost after epoch 2: 0.447840\n",
      "Test Cost after epoch 2: 0.536026\n",
      "Saving a new best model\n",
      "Cost after epoch 3: 0.394223\n",
      "Test Cost after epoch 3: 0.471511\n",
      "Saving a new best model\n",
      "Cost after epoch 4: 0.347194\n",
      "Test Cost after epoch 4: 0.414838\n",
      "Saving a new best model\n",
      "Cost after epoch 5: 0.304083\n",
      "Test Cost after epoch 5: 0.361082\n",
      "Saving a new best model\n",
      "Cost after epoch 6: 0.263699\n",
      "Test Cost after epoch 6: 0.308975\n",
      "Saving a new best model\n",
      "Cost after epoch 7: 0.226163\n",
      "Test Cost after epoch 7: 0.259226\n",
      "Saving a new best model\n",
      "Cost after epoch 8: 0.191588\n",
      "Test Cost after epoch 8: 0.210946\n",
      "Saving a new best model\n",
      "Cost after epoch 9: 0.160466\n",
      "Test Cost after epoch 9: 0.166384\n",
      "Saving a new best model\n",
      "Cost after epoch 10: 0.133168\n",
      "Test Cost after epoch 10: 0.127186\n",
      "Saving a new best model\n",
      "Cost after epoch 11: 0.110493\n",
      "Test Cost after epoch 11: 0.095746\n",
      "Saving a new best model\n",
      "Cost after epoch 12: 0.092456\n",
      "Test Cost after epoch 12: 0.074971\n",
      "Saving a new best model\n",
      "Cost after epoch 13: 0.078946\n",
      "Test Cost after epoch 13: 0.064746\n",
      "Saving a new best model\n",
      "Cost after epoch 14: 0.069683\n",
      "Test Cost after epoch 14: 0.061501\n",
      "Saving a new best model\n",
      "Cost after epoch 15: 0.063666\n",
      "Test Cost after epoch 15: 0.063330\n",
      "Cost after epoch 16: 0.059911\n",
      "Test Cost after epoch 16: 0.069021\n",
      "Cost after epoch 17: 0.055968\n",
      "Test Cost after epoch 17: 0.082340\n",
      "Cost after epoch 18: 0.051785\n",
      "Test Cost after epoch 18: 0.171004\n",
      "Cost after epoch 19: 0.041292\n",
      "Test Cost after epoch 19: 0.298543\n",
      "Cost after epoch 20: 0.033823\n",
      "Test Cost after epoch 20: 0.114870\n",
      "Cost after epoch 21: 0.022153\n",
      "Test Cost after epoch 21: 0.091156\n",
      "Cost after epoch 22: 0.015956\n",
      "Test Cost after epoch 22: 0.043005\n",
      "Saving a new best model\n",
      "Cost after epoch 23: 0.011900\n",
      "Test Cost after epoch 23: 0.023603\n",
      "Saving a new best model\n",
      "Cost after epoch 24: 0.009779\n",
      "Test Cost after epoch 24: 0.020147\n",
      "Saving a new best model\n",
      "Cost after epoch 25: 0.008507\n",
      "Test Cost after epoch 25: 0.018442\n",
      "Saving a new best model\n",
      "Cost after epoch 26: 0.008198\n",
      "Test Cost after epoch 26: 0.015527\n",
      "Saving a new best model\n",
      "Cost after epoch 27: 0.006567\n",
      "Test Cost after epoch 27: 0.013566\n",
      "Saving a new best model\n",
      "Cost after epoch 28: 0.006123\n",
      "Test Cost after epoch 28: 0.016219\n",
      "Cost after epoch 29: 0.004917\n",
      "Test Cost after epoch 29: 0.013456\n",
      "Saving a new best model\n",
      "Cost after epoch 30: 0.004127\n",
      "Test Cost after epoch 30: 0.017068\n",
      "Cost after epoch 31: 0.003676\n",
      "Test Cost after epoch 31: 0.015214\n",
      "Cost after epoch 32: 0.003253\n",
      "Test Cost after epoch 32: 0.012791\n",
      "Saving a new best model\n",
      "Cost after epoch 33: 0.002967\n",
      "Test Cost after epoch 33: 0.009276\n",
      "Saving a new best model\n",
      "Cost after epoch 34: 0.006433\n",
      "Test Cost after epoch 34: 0.006325\n",
      "Saving a new best model\n",
      "Cost after epoch 35: 0.002545\n",
      "Test Cost after epoch 35: 0.007691\n",
      "Cost after epoch 36: 0.005726\n",
      "Test Cost after epoch 36: 0.007861\n",
      "Cost after epoch 37: 0.005566\n",
      "Test Cost after epoch 37: 0.013778\n",
      "Cost after epoch 38: 0.005781\n",
      "Test Cost after epoch 38: 0.029095\n",
      "Cost after epoch 39: 0.006886\n",
      "Test Cost after epoch 39: 0.038155\n",
      "Cost after epoch 40: 0.005198\n",
      "Test Cost after epoch 40: 0.051792\n",
      "Cost after epoch 41: 0.008580\n",
      "Test Cost after epoch 41: 0.017938\n",
      "Cost after epoch 42: 0.004344\n",
      "Test Cost after epoch 42: 0.015410\n",
      "Cost after epoch 43: 0.006584\n",
      "Test Cost after epoch 43: 0.014600\n",
      "Cost after epoch 44: 0.006956\n",
      "Test Cost after epoch 44: 0.011863\n",
      "Cost after epoch 45: 0.002499\n",
      "Test Cost after epoch 45: 0.023557\n",
      "Cost after epoch 46: 0.008469\n",
      "Test Cost after epoch 46: 0.008501\n",
      "Cost after epoch 47: 0.003298\n",
      "Test Cost after epoch 47: 0.014860\n",
      "Cost after epoch 48: 0.004298\n",
      "Test Cost after epoch 48: 0.016243\n",
      "Cost after epoch 49: 0.004942\n",
      "Test Cost after epoch 49: 0.011522\n"
     ]
    },
    {
     "data": {
      "image/png": "[encoded data removed]",
      "text/plain": [
       "<matplotlib.figure.Figure at 0x136162c50>"
      ]
     },
     "metadata": {},
     "output_type": "display_data"
    },
    {
     "data": {
      "image/png": "[encoded data removed]",
      "text/plain": [
       "<matplotlib.figure.Figure at 0x11fc36668>"
      ]
     },
     "metadata": {},
     "output_type": "display_data"
    },
    {
     "name": "stdout",
     "output_type": "stream",
     "text": [
      "costs [0.44783995360136009, 0.39422304823994636, 0.34719371393322934, 0.30408342368900759, 0.26369897119700919, 0.22616284400224684, 0.19158794168382876, 0.16046606458723545, 0.13316828344017267, 0.11049343304708602, 0.092456463910639261, 0.078946255128830634, 0.069683356545865507, 0.063666253145784141, 0.059910526480525736, 0.05596847699955107, 0.051785427532158763, 0.041291936049237844, 0.033822857763734629, 0.022152981688850548, 0.015955661874613728, 0.011900134106981573, 0.0097788889192452159, 0.0085067237094335734, 0.0081976068230869732, 0.0065674717416550231, 0.0061226799703581504, 0.0049165396198077339, 0.0041272669294994532, 0.0036757000582656497, 0.003252844064336386, 0.0029669134564755967, 0.0064325615453071821, 0.0025445660726109045, 0.0057256823850184452, 0.0055659772586295723, 0.0057813236699075805, 0.0068856962406425712, 0.0051981220922607471, 0.0085800147746340361, 0.0043442517001312806, 0.0065841147987521238, 0.0069555444340949173, 0.0024985501885385029, 0.0084689810570853265, 0.0032975695768254808, 0.0042979127617218177, 0.0049421129207257771]\n",
      "Testcosts [0.53602559616168333, 0.47151079277197522, 0.41483797381321585, 0.36108242720365524, 0.30897544945279753, 0.25922649105389917, 0.21094553420941034, 0.16638375942905745, 0.12718581594526768, 0.095745923618475601, 0.074970840476453304, 0.064745874454577759, 0.061500935194393001, 0.063329653503994138, 0.069020697226126984, 0.082339500077068806, 0.17100426989297074, 0.2985433905074994, 0.1148701071118315, 0.091156295345475286, 0.043004733122264348, 0.023602752403045695, 0.020147204748354856, 0.018441505962982774, 0.015526538481935859, 0.013565749550859135, 0.016219017289889354, 0.01345635155060639, 0.017068038112483919, 0.015213851157265406, 0.012791055060612658, 0.0092764104677674677, 0.0063251457080089795, 0.0076912988830978675, 0.0078609775518998504, 0.013778076274320483, 0.029095035686623302, 0.03815548195658873, 0.051791985286399715, 0.017938475270057094, 0.015410292495895796, 0.014600144563398015, 0.011863140884088352, 0.023556784261018041, 0.0085012348863529041, 0.014859505152950685, 0.016243409016169608, 0.011521942481825437]\n"
     ]
    }
   ],
   "source": [
    "costs,Testcosts = model()\n",
    "print('costs', costs)\n",
    "print('Testcosts', Testcosts)"
   ]
  },
  {
   "cell_type": "code",
   "execution_count": 106,
   "metadata": {},
   "outputs": [
    {
     "name": "stdout",
     "output_type": "stream",
     "text": [
      "INFO:tensorflow:Restoring parameters from ./transfer4uspVGG16/model0\n",
      "Tensor(\"X:0\", shape=(?, 1024), dtype=float32)\n",
      "Confusion matrix, without normalization\n",
      "[[ 99 146]\n",
      " [195 972]]\n"
     ]
    },
    {
     "data": {
      "image/png": "[encoded data removed]",
      "text/plain": [
       "<matplotlib.figure.Figure at 0x107ac6668>"
      ]
     },
     "metadata": {},
     "output_type": "display_data"
    }
   ],
   "source": [
    "saver4Pre = tf.train.import_meta_graph('./transfer4uspVGG16/model0.meta')\n",
    "with tf.Session() as sess:\n",
    "    # Step-2: Now let's load the weights saved using the restore method.\n",
    "    saver4Pre.restore(sess, tf.train.latest_checkpoint('./transfer4uspVGG16'))\n",
    "    # Accessing the default graph which we have restored\n",
    "    graph = tf.get_default_graph()\n",
    "    # Now, let's get hold of the op that we can be processed to get the output.\n",
    "    # In the original network y_pred is the tensor that is the prediction of the network\n",
    "    PREDICT_op = graph.get_tensor_by_name(\"PREDICT_op:0\")\n",
    "    X = graph.get_tensor_by_name(\"X:0\") \n",
    "    print(X)\n",
    "    Y = graph.get_tensor_by_name(\"Y:0\")\n",
    "    # for i in range(0, votesIndex.shape[0]):\n",
    "    X_val = np.zeros((1, imageFeatures.shape[1]*2)) \n",
    "    Y_val = np.zeros((1,1))\n",
    "    # for i in range(0, votesIndex.shape[0]):\n",
    "    prediction = []\n",
    "    actulLabel = []\n",
    "   \n",
    "    for i in range(12703, 14115):\n",
    "        # minus 1 because originall indexing list was done in MATLAB.\n",
    "        # MATLAB index stars at 1\n",
    "        imgAIdx = votesIndex[i][0] - 1\n",
    "        imgBIdx = votesIndex[i][1] - 1\n",
    "        voteCode = votesIndex[i][2]\n",
    "        \n",
    "        Y_val[0,0] = voteCode\n",
    "        X_val[0] = np.expand_dims(np.concatenate((imgNrmFeatures[np.int(imgAIdx)], imgNrmFeatures[np.int(imgBIdx)]), axis=0), axis=0)[0]\n",
    "        \n",
    "        result = sess.run(PREDICT_op, feed_dict={X: X_val, Y: Y_val})\n",
    "        prediction.append(result[0,0])\n",
    "        actulLabel.append(Y_val[0,0])\n",
    "        \n",
    "    \n",
    "    \n",
    "    \n",
    "    \n",
    "    # pout = np.concatenate((np.transpose(actulLabelArr), np.transpose(predictionArr)), axis=1)\n",
    "    # print(pout)\n",
    "    # Compute confusion matrix\n",
    "    cnf_matrix = confusion_matrix(np.asarray(actulLabel), np.asarray(prediction))\n",
    "    np.set_printoptions(precision=2)\n",
    "    # Plot non-normalized confusion matrix\n",
    "    plt.figure()\n",
    "    class_names = ['Zer0', 'One']\n",
    "    plot_confusion_matrix(cnf_matrix, classes=class_names,\n",
    "                      title='Confusion matrix, without normalization')\n",
    "    plt.show()\n",
    "    "
   ]
  },
  {
   "cell_type": "code",
   "execution_count": null,
   "metadata": {
    "collapsed": true
   },
   "outputs": [],
   "source": []
  }
 ],
 "metadata": {
  "kernelspec": {
   "display_name": "Python 3",
   "language": "python",
   "name": "python3"
  },
  "language_info": {
   "codemirror_mode": {
    "name": "ipython",
    "version": 3
   },
   "file_extension": ".py",
   "mimetype": "text/x-python",
   "name": "python",
   "nbconvert_exporter": "python",
   "pygments_lexer": "ipython3",
   "version": "3.6.5"
  }
 },
 "nbformat": 4,
 "nbformat_minor": 2
}
